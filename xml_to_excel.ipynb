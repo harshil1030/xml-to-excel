{
  "nbformat": 4,
  "nbformat_minor": 0,
  "metadata": {
    "colab": {
      "provenance": [],
      "include_colab_link": true
    },
    "kernelspec": {
      "name": "python3",
      "display_name": "Python 3"
    },
    "language_info": {
      "name": "python"
    }
  },
  "cells": [
    {
      "cell_type": "markdown",
      "metadata": {
        "id": "view-in-github",
        "colab_type": "text"
      },
      "source": [
        "<a href=\"https://colab.research.google.com/github/harshil1030/xml-to-excel/blob/main/xml_to_excel.ipynb\" target=\"_parent\"><img src=\"https://colab.research.google.com/assets/colab-badge.svg\" alt=\"Open In Colab\"/></a>"
      ]
    },
    {
      "cell_type": "code",
      "source": [
        "import pandas as pd\n",
        "import numpy as np\n",
        "import xml.etree.ElementTree as ETree\n",
        "\n",
        "\n",
        "Tree = ETree.parse(\"/content/drive/MyDrive/dataset/inputxmlFile.xml\") #Giving input to a File\n",
        "root=Tree.getroot()\n",
        "A =[]\n",
        "for ele in root:\n",
        "  B={}\n",
        "  for i in list(ele):\n",
        "    B.update({i.tag : i.text})\n",
        "    A.append(B)\n",
        "df= pd.DataFrame(A) #Creating a Dataframe )\n",
        "\n",
        "\n",
        "df.drop_duplicates(keep=\"first\", inplace=True) #Delete if any Duplicates\n",
        "df.reset_index(drop=True, inplace=True)\n",
        "writer = pd.ExcelWriter(\"/content/drive/MyDrive/dataset/Output_Excel File.xlsx\" , engine='xlsxwriter') #it will Create and Write\n",
        "\n",
        "#data in output file\n",
        "df.to_excel(writer,sheet_name='sheet1') #  export the DataFrame to excel\n",
        "\n",
        "#if i want to add Width space to Column\n",
        "worksheet=writer.sheets['sheet1']\n",
        "worksheet.set_column('B:Z',30)\n",
        "writer.save() #it will save the File\n",
        "print(\"XML file Converted to excel file Successfully\")\n",
        "\n",
        "\n",
        "\n",
        "\n",
        "\n",
        "\n"
      ],
      "metadata": {
        "id": "fNlD4BGv8YWQ",
        "colab": {
          "base_uri": "https://localhost:8080/"
        },
        "outputId": "0b9438cc-54af-4921-c43c-420897c8f510"
      },
      "execution_count": 8,
      "outputs": [
        {
          "output_type": "stream",
          "name": "stdout",
          "text": [
            "XML file Converted to excel file Successfully\n"
          ]
        },
        {
          "output_type": "stream",
          "name": "stderr",
          "text": [
            "<ipython-input-8-c08e1252400d>:28: FutureWarning: save is not part of the public API, usage can give unexpected results and will be removed in a future version\n",
            "  writer.save() #it will save the File\n"
          ]
        }
      ]
    },
    {
      "cell_type": "code",
      "source": [
        "writer.save()"
      ],
      "metadata": {
        "colab": {
          "base_uri": "https://localhost:8080/"
        },
        "id": "NiA4delHEyJK",
        "outputId": "bbcdd678-b70a-46ee-9db3-a3af45c30383"
      },
      "execution_count": 9,
      "outputs": [
        {
          "output_type": "stream",
          "name": "stderr",
          "text": [
            "<ipython-input-9-16d93d5523a4>:1: FutureWarning: save is not part of the public API, usage can give unexpected results and will be removed in a future version\n",
            "  writer.save()\n",
            "/usr/local/lib/python3.10/dist-packages/xlsxwriter/workbook.py:339: UserWarning: Calling close() on already closed file.\n",
            "  warn(\"Calling close() on already closed file.\")\n"
          ]
        }
      ]
    },
    {
      "cell_type": "code",
      "source": [
        "from google.colab import drive\n",
        "drive.mount('/content/drive')"
      ],
      "metadata": {
        "colab": {
          "base_uri": "https://localhost:8080/"
        },
        "id": "2M4O6xx99QCY",
        "outputId": "4ce0a140-bc07-4224-985c-33a11a7350ed"
      },
      "execution_count": 1,
      "outputs": [
        {
          "output_type": "stream",
          "name": "stdout",
          "text": [
            "Mounted at /content/drive\n"
          ]
        }
      ]
    },
    {
      "cell_type": "code",
      "source": [],
      "metadata": {
        "id": "aXnRueEs8YUf"
      },
      "execution_count": null,
      "outputs": []
    },
    {
      "cell_type": "code",
      "source": [],
      "metadata": {
        "id": "sTFTM23E8YSB"
      },
      "execution_count": null,
      "outputs": []
    },
    {
      "cell_type": "code",
      "source": [],
      "metadata": {
        "id": "MFLG4Wrl8YPL"
      },
      "execution_count": null,
      "outputs": []
    },
    {
      "cell_type": "code",
      "source": [],
      "metadata": {
        "id": "WxAAf3Xm8YNL"
      },
      "execution_count": null,
      "outputs": []
    },
    {
      "cell_type": "code",
      "source": [],
      "metadata": {
        "id": "kSZ59Eub8YK6"
      },
      "execution_count": null,
      "outputs": []
    },
    {
      "cell_type": "code",
      "source": [],
      "metadata": {
        "id": "QGTEyJAY8YI7"
      },
      "execution_count": null,
      "outputs": []
    },
    {
      "cell_type": "code",
      "source": [],
      "metadata": {
        "id": "22baafxj8YGb"
      },
      "execution_count": null,
      "outputs": []
    },
    {
      "cell_type": "code",
      "source": [],
      "metadata": {
        "id": "LQwoxXuK8YEJ"
      },
      "execution_count": null,
      "outputs": []
    },
    {
      "cell_type": "code",
      "source": [],
      "metadata": {
        "id": "cM_gC3q08X-6"
      },
      "execution_count": null,
      "outputs": []
    },
    {
      "cell_type": "code",
      "source": [],
      "metadata": {
        "id": "iUqCP0VY8X8q"
      },
      "execution_count": null,
      "outputs": []
    },
    {
      "cell_type": "code",
      "source": [
        "import pandas as pd\n",
        "from xml.etree import ElementTree as ET\n",
        "\n",
        "def xml_to_excel(xml_file, excel_file):\n",
        "    # Parse the XML file\n",
        "    tree = ET.parse(xml_file)\n",
        "    root = tree.getroot()\n",
        "\n",
        "    # Extract data from XML and store it in a dictionary\n",
        "    data = {}\n",
        "    for child in root:\n",
        "        for sub_child in child:\n",
        "            data.setdefault(sub_child.tag, []).append(sub_child.text)\n",
        "\n",
        "    # Convert the dictionary to a DataFrame\n",
        "    df = pd.DataFrame(data)\n",
        "\n",
        "    # Write the DataFrame to an Excel file\n",
        "    df.to_excel(excel_file, index=False)\n",
        "\n",
        "# Provide the paths to your XML and Excel files\n",
        "xml_file_path = input(\"Enter the path to the file: \")\n",
        "excel_file_path = input('Emter the File Path')\n",
        "\n",
        "# Convert XML to Excel\n",
        "xml_to_excel(xml_file_path, excel_file_path)\n"
      ],
      "metadata": {
        "outputId": "bd5dc8a7-bec5-45e2-9b1f-b885e7e49f79",
        "colab": {
          "base_uri": "https://localhost:8080/"
        },
        "id": "P-vnsrhKG1oR"
      },
      "execution_count": null,
      "outputs": [
        {
          "output_type": "stream",
          "name": "stdout",
          "text": [
            "Looking in indexes: https://pypi.org/simple, https://us-python.pkg.dev/colab-wheels/public/simple/\n",
            "Collecting flask-ngrok\n",
            "  Downloading flask_ngrok-0.0.25-py3-none-any.whl (3.1 kB)\n",
            "Requirement already satisfied: Flask>=0.8 in /usr/local/lib/python3.10/dist-packages (from flask-ngrok) (2.2.4)\n",
            "Requirement already satisfied: requests in /usr/local/lib/python3.10/dist-packages (from flask-ngrok) (2.27.1)\n",
            "Requirement already satisfied: Werkzeug>=2.2.2 in /usr/local/lib/python3.10/dist-packages (from Flask>=0.8->flask-ngrok) (2.3.0)\n",
            "Requirement already satisfied: Jinja2>=3.0 in /usr/local/lib/python3.10/dist-packages (from Flask>=0.8->flask-ngrok) (3.1.2)\n",
            "Requirement already satisfied: itsdangerous>=2.0 in /usr/local/lib/python3.10/dist-packages (from Flask>=0.8->flask-ngrok) (2.1.2)\n",
            "Requirement already satisfied: click>=8.0 in /usr/local/lib/python3.10/dist-packages (from Flask>=0.8->flask-ngrok) (8.1.3)\n",
            "Requirement already satisfied: urllib3<1.27,>=1.21.1 in /usr/local/lib/python3.10/dist-packages (from requests->flask-ngrok) (1.26.15)\n",
            "Requirement already satisfied: certifi>=2017.4.17 in /usr/local/lib/python3.10/dist-packages (from requests->flask-ngrok) (2022.12.7)\n",
            "Requirement already satisfied: charset-normalizer~=2.0.0 in /usr/local/lib/python3.10/dist-packages (from requests->flask-ngrok) (2.0.12)\n",
            "Requirement already satisfied: idna<4,>=2.5 in /usr/local/lib/python3.10/dist-packages (from requests->flask-ngrok) (3.4)\n",
            "Requirement already satisfied: MarkupSafe>=2.0 in /usr/local/lib/python3.10/dist-packages (from Jinja2>=3.0->Flask>=0.8->flask-ngrok) (2.1.2)\n",
            "Installing collected packages: flask-ngrok\n",
            "Successfully installed flask-ngrok-0.0.25\n"
          ]
        }
      ]
    },
    {
      "cell_type": "code",
      "source": [
        "\n"
      ],
      "metadata": {
        "id": "FwJ_EADx6AVg"
      },
      "execution_count": null,
      "outputs": []
    },
    {
      "cell_type": "code",
      "source": [],
      "metadata": {
        "id": "rk_YGCzl6b_c"
      },
      "execution_count": null,
      "outputs": []
    },
    {
      "cell_type": "code",
      "source": [],
      "metadata": {
        "id": "s5j-isP47af_"
      },
      "execution_count": null,
      "outputs": []
    },
    {
      "cell_type": "code",
      "source": [
        "\n"
      ],
      "metadata": {
        "id": "nCawXgZu7aeO"
      },
      "execution_count": null,
      "outputs": []
    },
    {
      "cell_type": "code",
      "source": [],
      "metadata": {
        "id": "hdFvkW607acP"
      },
      "execution_count": null,
      "outputs": []
    },
    {
      "cell_type": "code",
      "source": [],
      "metadata": {
        "id": "blHVeMQ57aaO"
      },
      "execution_count": null,
      "outputs": []
    },
    {
      "cell_type": "code",
      "source": [],
      "metadata": {
        "id": "xnhfI1Jk7aXq"
      },
      "execution_count": null,
      "outputs": []
    },
    {
      "cell_type": "code",
      "source": [],
      "metadata": {
        "id": "CIf1DQrn68Z4"
      },
      "execution_count": null,
      "outputs": []
    }
  ]
}